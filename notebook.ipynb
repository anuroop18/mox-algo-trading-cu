{
 "cells": [
  {
   "cell_type": "code",
   "execution_count": 1,
   "metadata": {},
   "outputs": [
    {
     "name": "stdout",
     "output_type": "stream",
     "text": [
      "\u001b[2mResolved \u001b[1m94 packages\u001b[0m \u001b[2min 1ms\u001b[0m\u001b[0m\n",
      "\u001b[2mAudited \u001b[1m88 packages\u001b[0m \u001b[2min 0.04ms\u001b[0m\u001b[0m\n",
      "Note: you may need to restart the kernel to use updated packages.\n",
      "\u001b[2mResolved \u001b[1m94 packages\u001b[0m \u001b[2min 1ms\u001b[0m\u001b[0m\n",
      "\u001b[2mAudited \u001b[1m88 packages\u001b[0m \u001b[2min 0.03ms\u001b[0m\u001b[0m\n",
      "Note: you may need to restart the kernel to use updated packages.\n"
     ]
    }
   ],
   "source": [
    "%uv add moccasin\n",
    "%uv sync"
   ]
  },
  {
   "cell_type": "code",
   "execution_count": 1,
   "metadata": {},
   "outputs": [],
   "source": [
    "from moccasin import setup_notebook\n",
    "\n",
    "setup_notebook()"
   ]
  },
  {
   "cell_type": "code",
   "execution_count": 7,
   "metadata": {},
   "outputs": [
    {
     "name": "stdout",
     "output_type": "stream",
     "text": [
      "eth-forked\n"
     ]
    }
   ],
   "source": [
    "from moccasin.config import get_active_network, get_config\n",
    "\n",
    "active_network = get_active_network()\n",
    "print(active_network.name)"
   ]
  },
  {
   "cell_type": "code",
   "execution_count": 4,
   "metadata": {},
   "outputs": [
    {
     "name": "stdout",
     "output_type": "stream",
     "text": [
      "Starting setup script\n",
      "USDC balance before: 0\n",
      "USDC balance after: 100000000\n"
     ]
    }
   ],
   "source": [
    "from boa.contracts.abi.abi_contract import ABIContract\n",
    "from typing import Tuple\n",
    "from moccasin.config import get_active_network\n",
    "import boa\n",
    "\n",
    "STARTING_ETH_BALANCE = int(1000e18)\n",
    "STARTING_USDC_BALANCE = int(100e6)\n",
    "STARTING_WETH_BALANCE = int(1e18)\n",
    "\n",
    "def _add_eth_balance():\n",
    "    boa.env.set_balance(boa.env.eoa, STARTING_ETH_BALANCE)\n",
    "\n",
    "def _add_token_balance(usdc: ABIContract, weth: ABIContract):\n",
    "    weth.deposit(value=STARTING_WETH_BALANCE)\n",
    "    print(\"USDC balance before:\", usdc.balanceOf(boa.env.eoa))\n",
    "    our_address = boa.env.eoa\n",
    "    with boa.env.prank(usdc.owner()):\n",
    "        usdc.updateMasterMinter(our_address)\n",
    "    usdc.configureMinter(our_address, STARTING_USDC_BALANCE)\n",
    "    usdc.mint(our_address, STARTING_USDC_BALANCE)\n",
    "    print(\"USDC balance after:\", usdc.balanceOf(our_address))\n",
    "\n",
    "def setup_script() -> Tuple[ABIContract, ABIContract, ABIContract, ABIContract]:\n",
    "    print(\"Starting setup script\")\n",
    "\n",
    "    active_network = get_active_network()\n",
    "    usdc = active_network.manifest_named(\"usdc\")\n",
    "    weth = active_network.manifest_named(\"weth\")\n",
    "    if active_network.is_local_or_forked_network():\n",
    "        # 1. Give ourselves some ETH\n",
    "        # 2. Give ourselves some USDC and WETH\n",
    "        _add_eth_balance()\n",
    "        _add_token_balance(usdc, weth)\n",
    "\n",
    "\n",
    "def moccasin_main():\n",
    "    setup_script()\n",
    "\n",
    "moccasin_main()"
   ]
  },
  {
   "cell_type": "code",
   "execution_count": 8,
   "metadata": {},
   "outputs": [],
   "source": [
    "usdc = active_network.manifest_named(\"usdc\")\n",
    "weth = active_network.manifest_named(\"weth\")"
   ]
  },
  {
   "cell_type": "code",
   "execution_count": 16,
   "metadata": {},
   "outputs": [
    {
     "name": "stdout",
     "output_type": "stream",
     "text": [
      "0x87870Bca3F3fD6335C3F4ce8392D69350B4fA4E2\n"
     ]
    }
   ],
   "source": [
    "# To reload config\n",
    "config = get_config()\n",
    "config.reload()\n",
    "active_network = config.get_active_network()\n",
    "# We want to call getPool() to know where to send our money\n",
    "aavev3_pool_address_provider = active_network.manifest_named(\"aavev3_pool_address_provider\")\n",
    "pool_address = aavev3_pool_address_provider.getPool()\n",
    "print(pool_address)"
   ]
  },
  {
   "cell_type": "code",
   "execution_count": 17,
   "metadata": {},
   "outputs": [],
   "source": [
    "config.reload()\n",
    "active_network = config.get_active_network()\n",
    "pool_contract = active_network.manifest_named(\"pool\", address=pool_address)"
   ]
  },
  {
   "cell_type": "code",
   "execution_count": 20,
   "metadata": {},
   "outputs": [
    {
     "name": "stdout",
     "output_type": "stream",
     "text": [
      "Depositing 100000000 USD Coin into Aave contract 0x87870Bca3F3fD6335C3F4ce8392D69350B4fA4E2\n",
      "Depositing 1000000000000000000 Wrapped Ether into Aave contract 0x87870Bca3F3fD6335C3F4ce8392D69350B4fA4E2\n",
      "User account data:\n",
      "    Total collateral base: 351659400000\n",
      "    Total debt base: 0\n",
      "    Available borrows base: 282523161960\n",
      "    Current liquidation threshold: 8285\n",
      "    LTV: 8034\n",
      "    Health factor: 115792089237316195423570985008687907853269984665640564039457584007913129639935\n",
      "\n"
     ]
    }
   ],
   "source": [
    "REFERRAL_CODE = 0\n",
    "\n",
    "def deposit(pool_contract: ABIContract, token: ABIContract, amount: int):\n",
    "    allowed_amount = token.allowance(boa.env.eoa, pool_contract.address)\n",
    "    if allowed_amount < amount:\n",
    "        token.approve(pool_contract.address, amount)\n",
    "    print(f\"Depositing {amount} {token.name()} into Aave contract {pool_contract.address}\")\n",
    "    pool_contract.supply(token.address, amount, boa.env.eoa, REFERRAL_CODE)\n",
    "\n",
    "usdc_balance = usdc.balanceOf(boa.env.eoa)\n",
    "weth_balance = weth.balanceOf(boa.env.eoa)\n",
    "\n",
    "if usdc_balance > 0:\n",
    "    deposit(pool_contract, usdc, usdc_balance)\n",
    "\n",
    "if weth_balance > 0:\n",
    "    deposit(pool_contract, weth, weth_balance)\n",
    "\n",
    "(\n",
    "    total_collateral_base,\n",
    "    total_debt_base,\n",
    "    available_borrows_base,\n",
    "    current_liquidation_threshold,\n",
    "    ltv,\n",
    "    health_factor\n",
    ") = pool_contract.getUserAccountData(boa.env.eoa)\n",
    "\n",
    "print(f\"\"\"User account data:\n",
    "    Total collateral base: {total_collateral_base}\n",
    "    Total debt base: {total_debt_base}\n",
    "    Available borrows base: {available_borrows_base}\n",
    "    Current liquidation threshold: {current_liquidation_threshold}\n",
    "    LTV: {ltv}\n",
    "    Health factor: {health_factor}\n",
    "\"\"\")"
   ]
  },
  {
   "cell_type": "code",
   "execution_count": 23,
   "metadata": {},
   "outputs": [
    {
     "name": "stdout",
     "output_type": "stream",
     "text": [
      "[('aEthWETH', Address('0x4d5F47FA6A74757f35C14fD3a6Ef8E3C9BC514E8')), ('aEthwstETH', Address('0x0B925eD163218f6662a35e0f0371Ac234f9E9371')), ('aEthWBTC', Address('0x5Ee5bf7ae06D1Be5997A1A72006FE6C607eC6DE8')), ('aEthUSDC', Address('0x98C23E9d8f34FEFb1B7BD6a91B7FF122F4e16F5c')), ('aEthDAI', Address('0x018008bfb33d285247A21d44E50697654f754e63')), ('aEthLINK', Address('0x5E8C8A7243651DB1384C0dDfDbE39761E8e7E51a')), ('aEthAAVE', Address('0xA700b4eB416Be35b2911fd5Dee80678ff64fF6C9')), ('aEthcbETH', Address('0x977b6fc5dE62598B08C85AC8Cf2b745874E8b78c')), ('aEthUSDT', Address('0x23878914EFE38d27C4D67Ab83ed1b93A74D4086a')), ('aEthrETH', Address('0xCc9EE9483f662091a1de4795249E24aC0aC2630f')), ('aEthLUSD', Address('0x3Fe6a295459FAe07DF8A0ceCC36F37160FE86AA9')), ('aEthCRV', Address('0x7B95Ec873268a6BFC6427e7a28e396Db9D0ebc65')), ('aEthMKR', Address('0x8A458A9dc9048e005d22849F470891b840296619')), ('aEthSNX', Address('0xC7B4c17861357B8ABB91F25581E7263E08DCB59c')), ('aEthBAL', Address('0x2516E7B3F76294e03C42AA4c5b5b4DCE9C436fB8')), ('aEthUNI', Address('0xF6D2224916DDFbbab6e6bd0D1B7034f4Ae0CaB18')), ('aEthLDO', Address('0x9A44fd41566876A39655f74971a3A6eA0a17a454')), ('aEthENS', Address('0x545bD6c032eFdde65A377A6719DEF2796C8E0f2e')), ('aEth1INCH', Address('0x71Aef7b30728b9BB371578f36c5A1f1502a5723e')), ('aEthFRAX', Address('0xd4e245848d6E1220DBE62e155d89fa327E43CB06')), ('aEthGHO', Address('0x00907f9921424583e7ffBfEdf84F92B7B2Be4977')), ('aEthRPL', Address('0xB76CF92076adBF1D9C39294FA8e7A67579FDe357')), ('aEthsDAI', Address('0x4C612E3B15b96Ff9A6faED838F8d07d479a8dD4c')), ('aEthSTG', Address('0x1bA9843bD4327c6c77011406dE5fA8749F7E3479')), ('aEthKNC', Address('0x5b502e3796385E1e9755d7043B9C945C3aCCeC9C')), ('aEthFXS', Address('0x82F9c5ad306BBa1AD0De49bB5FA6F01bf61085ef')), ('aEthcrvUSD', Address('0xb82fa9f31612989525992FCfBB09AB22Eff5c85A')), ('aEthPYUSD', Address('0x0C0d01AbF3e6aDfcA0989eBbA9d6e85dD58EaB1E')), ('aEthweETH', Address('0xBdfa7b7893081B35Fb54027489e2Bc7A38275129')), ('aEthosETH', Address('0x927709711794F3De5DdBF1D176bEE2D55Ba13c21')), ('aEthUSDe', Address('0x4F5923Fc5FD4a93352581b38B7cD26943012DECF')), ('aEthETHx', Address('0x1c0E06a0b1A4c160c17545FF2A951bfcA57C0002')), ('aEthsUSDe', Address('0x4579a27aF00A62C0EB156349f31B345c08386419')), ('aEthtBTC', Address('0x10Ac93971cdb1F5c778144084242374473c350Da')), ('aEthcbBTC', Address('0x5c647cE0Ae10658ec44FA4E11A51c96e94efd1Dd')), ('aEthUSDS', Address('0x32a6268f9Ba3642Dda7892aDd74f1D34469A4259')), ('aEthrsETH', Address('0x2D62109243b87C4bA3EE7bA1D91B0dD0A074d7b1'))]\n"
     ]
    }
   ],
   "source": [
    "# 30% USDC and 70% WETH\n",
    "config.reload()\n",
    "active_network = config.get_active_network()\n",
    "\n",
    "aave_protocol_data_provider = active_network.manifest_named(\"aave_protocol_data_provider\")\n",
    "a_tokens = aave_protocol_data_provider.getAllATokens()\n",
    "print(a_tokens)"
   ]
  },
  {
   "cell_type": "code",
   "execution_count": 27,
   "metadata": {},
   "outputs": [],
   "source": [
    "for a_token in a_tokens:\n",
    "    if \"WETH\" in a_token[0]:\n",
    "        a_weth = active_network.manifest_named(\"weth\", address=a_token[1])\n",
    "    if \"USDC\" in a_token[0]:\n",
    "        a_usdc = active_network.manifest_named(\"usdc\", address=a_token[1])"
   ]
  },
  {
   "cell_type": "code",
   "execution_count": 28,
   "metadata": {},
   "outputs": [
    {
     "name": "stdout",
     "output_type": "stream",
     "text": [
      "<weth interface at 0x4d5F47FA6A74757f35C14fD3a6Ef8E3C9BC514E8>\n",
      "<usdc interface at 0x98C23E9d8f34FEFb1B7BD6a91B7FF122F4e16F5c>\n"
     ]
    }
   ],
   "source": [
    "print(a_weth)\n",
    "print(a_usdc)"
   ]
  },
  {
   "cell_type": "code",
   "execution_count": 30,
   "metadata": {},
   "outputs": [
    {
     "name": "stdout",
     "output_type": "stream",
     "text": [
      "USDC balance normalized: 100.0\n",
      "WETH balance normalized: 1.0\n"
     ]
    }
   ],
   "source": [
    "# get how much they are worth, to figure out what our portfolio makeup is\n",
    "a_usdc_balance = a_usdc.balanceOf(boa.env.eoa) # 6 decimals\n",
    "a_weth_balance = a_weth.balanceOf(boa.env.eoa) # 18 decimals\n",
    "\n",
    "a_usdc_balance_normalized = a_usdc_balance / 10 ** 6\n",
    "a_weth_balance_normalized = a_weth_balance / 10 ** 18\n",
    "\n",
    "print(f\"USDC balance normalized: {a_usdc_balance_normalized}\")\n",
    "print(f\"WETH balance normalized: {a_weth_balance_normalized}\")"
   ]
  },
  {
   "cell_type": "code",
   "execution_count": 39,
   "metadata": {},
   "outputs": [
    {
     "name": "stdout",
     "output_type": "stream",
     "text": [
      "USDC price: 1.00004\n",
      "ETH price: 3416.59\n"
     ]
    }
   ],
   "source": [
    "# Chainlink pricefeeds are slightly delayed and out of sync with the actual price\n",
    "config.reload()\n",
    "active_network = config.get_active_network()\n",
    "\n",
    "def get_price(feed_name: str) -> float:\n",
    "    price_feed = active_network.manifest_named(feed_name)\n",
    "    price =  price_feed.latestAnswer()\n",
    "    decimals = price_feed.decimals()\n",
    "    return price / 10 ** decimals\n",
    "\n",
    "usdc_price = get_price(\"usdc_usd_price_feed\")\n",
    "eth_price = get_price(\"eth_usd_price_feed\")\n",
    "\n",
    "print(f\"USDC price: {usdc_price}\")\n",
    "print(f\"ETH price: {eth_price}\")\n"
   ]
  },
  {
   "cell_type": "code",
   "execution_count": 48,
   "metadata": {},
   "outputs": [
    {
     "name": "stdout",
     "output_type": "stream",
     "text": [
      "Total value: 3516.594\n",
      "USDC percent allocation: 0.03 => Target: 0.3\n",
      "WETH percent allocation: 0.97 => Target: 0.7\n",
      "USDC value: 100.004 => Target: 1054.9782\n",
      "WETH value: 3416.59 => Target: 2461.6158\n",
      "Needs rebalancing: True\n"
     ]
    }
   ],
   "source": [
    "usdc_value = a_usdc_balance_normalized * usdc_price\n",
    "weth_value = a_weth_balance_normalized * eth_price\n",
    "total_value = usdc_value + weth_value\n",
    "\n",
    "usdc_percent_allocation = usdc_value / total_value\n",
    "weth_percent_allocation = weth_value / total_value\n",
    "\n",
    "target_usdc_percent_allocation = 0.3    \n",
    "target_weth_percent_allocation = 0.7\n",
    "\n",
    "target_usdc_value = total_value * target_usdc_percent_allocation\n",
    "target_weth_value = total_value * target_weth_percent_allocation\n",
    "\n",
    "print(f\"Total value: {total_value}\")\n",
    "# Show only 2 decimal places\n",
    "print(f\"USDC percent allocation: {usdc_percent_allocation:.2f} => Target: {target_usdc_percent_allocation}\")\n",
    "print(f\"WETH percent allocation: {weth_percent_allocation:.2f} => Target: {target_weth_percent_allocation}\")\n",
    "\n",
    "print(f\"USDC value: {usdc_value} => Target: {target_usdc_value}\")\n",
    "print(f\"WETH value: {weth_value} => Target: {target_weth_value}\")\n",
    "\n",
    "BUFFER = 0.1\n",
    "\n",
    "needs_rebalancing = (\n",
    "    abs(usdc_value - target_usdc_value) > BUFFER or\n",
    "    abs(weth_value - target_weth_value) > BUFFER\n",
    ")\n",
    "\n",
    "print(f\"Needs rebalancing: {needs_rebalancing}\")\n"
   ]
  },
  {
   "cell_type": "code",
   "execution_count": 65,
   "metadata": {},
   "outputs": [
    {
     "data": {
      "text/plain": [
       "{'usdc': {'contract': <usdc interface at 0xA0b86991c6218b36c1d19D4a2e9Eb0cE3606eB48>,\n",
       "  'trade': 954.9360025598976},\n",
       " 'weth': {'contract': <weth interface at 0xC02aaA39b223FE8D0A0e5C4F27eAD9083C756Cc2>,\n",
       "  'trade': -0.27951091585469723}}"
      ]
     },
     "execution_count": 65,
     "metadata": {},
     "output_type": "execute_result"
    }
   ],
   "source": [
    "usdc_data = {\n",
    "    \"balance\": a_usdc_balance_normalized,\n",
    "    \"price\": usdc_price,\n",
    "    \"contract\": usdc\n",
    "}\n",
    "\n",
    "weth_data = {\n",
    "    \"balance\": a_weth_balance_normalized,\n",
    "    \"price\": eth_price,\n",
    "    \"contract\": weth\n",
    "}\n",
    "\n",
    "target_allocations = {\n",
    "    \"usdc\": 0.3,\n",
    "    \"weth\": 0.7\n",
    "}\n",
    "\n",
    "def calculate_rebalancing_trades(\n",
    "    usdc_data: dict,  # {\"balance\": float, \"price\": float, \"contract\": Contract}\n",
    "    weth_data: dict,  # {\"balance\": float, \"price\": float, \"contract\": Contract}\n",
    "    target_allocations: dict[str, float],  # {\"usdc\": 0.3, \"weth\": 0.7}\n",
    ") -> dict[str, dict]:\n",
    "    \"\"\"\n",
    "    Calculate the trades needed to rebalance a portfolio of USDC and WETH.\n",
    "\n",
    "    Args:\n",
    "        usdc_data: Dict containing USDC balance, price and contract\n",
    "        weth_data: Dict containing WETH balance, price and contract\n",
    "        target_allocations: Dict of token symbol to target allocation (must sum to 1)\n",
    "\n",
    "    Returns:\n",
    "        Dict of token symbol to dict containing contract and trade amount:\n",
    "            {\"usdc\": {\"contract\": Contract, \"trade\": int},\n",
    "             \"weth\": {\"contract\": Contract, \"trade\": int}}\n",
    "    \"\"\"\n",
    "    # Calculate current values\n",
    "    usdc_value = usdc_data[\"balance\"] * usdc_data[\"price\"]\n",
    "    weth_value = weth_data[\"balance\"] * weth_data[\"price\"]\n",
    "    total_value = usdc_value + weth_value\n",
    "\n",
    "    # Calculate target values\n",
    "    target_usdc_value = total_value * target_allocations[\"usdc\"]\n",
    "    target_weth_value = total_value * target_allocations[\"weth\"]\n",
    "\n",
    "    # Calculate trades needed in USD\n",
    "    usdc_trade_usd = target_usdc_value - usdc_value\n",
    "    weth_trade_usd = target_weth_value - weth_value\n",
    "\n",
    "    # Convert to token amounts\n",
    "    return {\n",
    "        \"usdc\": {\n",
    "            \"contract\": usdc_data[\"contract\"],\n",
    "            \"trade\": usdc_trade_usd / usdc_data[\"price\"],\n",
    "        },\n",
    "        \"weth\": {\n",
    "            \"contract\": weth_data[\"contract\"],\n",
    "            \"trade\": weth_trade_usd / weth_data[\"price\"],\n",
    "        },\n",
    "    }\n",
    "\n",
    "\n",
    "trades = calculate_rebalancing_trades(usdc_data, weth_data, target_allocations)\n",
    "trades\n",
    "\n"
   ]
  },
  {
   "cell_type": "code",
   "execution_count": 66,
   "metadata": {},
   "outputs": [
    {
     "name": "stdout",
     "output_type": "stream",
     "text": [
      "USDC balance: 0\n",
      "WETH balance: 279510915854697216\n",
      "Aave USDC balance: 100000000\n",
      "Aave WETH balance: 720489084145302785\n"
     ]
    }
   ],
   "source": [
    "def print_token_balances():\n",
    "    print(f\"USDC balance: {usdc.balanceOf(boa.env.eoa)}\")\n",
    "    print(f\"WETH balance: {weth.balanceOf(boa.env.eoa)}\")\n",
    "    print(f\"Aave USDC balance: {a_usdc.balanceOf(boa.env.eoa)}\")\n",
    "    print(f\"Aave WETH balance: {a_weth.balanceOf(boa.env.eoa)}\")\n",
    "\n",
    "print_token_balances()"
   ]
  },
  {
   "cell_type": "code",
   "execution_count": 67,
   "metadata": {},
   "outputs": [
    {
     "name": "stdout",
     "output_type": "stream",
     "text": [
      "USDC balance: 0\n",
      "WETH balance: 279510915854697216\n",
      "Aave USDC balance: 100000000\n",
      "Aave WETH balance: 720489084145302785\n"
     ]
    }
   ],
   "source": [
    "# if weth is negative, we need to sell weth\n",
    "if trades[\"weth\"][\"trade\"] < 0:\n",
    "    weth_amount_to_sell_in_wei = int(trades[\"weth\"][\"trade\"] * 10 ** 18)\n",
    "    a_weth.approve(pool_contract.address, weth_amount_to_sell_in_wei)\n",
    "    pool_contract.withdraw(weth.address, weth_amount_to_sell_in_wei, boa.env.eoa)\n",
    "\n",
    "# if usdc is negative, we need to sell usdc\n",
    "if trades[\"usdc\"][\"trade\"] < 0:\n",
    "    usdc_amount_to_sell_without_decimals = int(trades[\"usdc\"][\"trade\"] * 10 ** 6)\n",
    "    a_usdc.approve(pool_contract.address, usdc_amount_to_sell_without_decimals)\n",
    "    pool_contract.withdraw(usdc.address, usdc_amount_to_sell_without_decimals, boa.env.eoa)\n",
    "\n",
    "print_token_balances()"
   ]
  },
  {
   "cell_type": "code",
   "execution_count": 71,
   "metadata": {},
   "outputs": [
    {
     "name": "stdout",
     "output_type": "stream",
     "text": [
      "Let's swap WETH for USDC\n",
      "USDC balance: 951530154\n",
      "WETH balance: 0\n",
      "Aave USDC balance: 100000000\n",
      "Aave WETH balance: 720489084145302785\n"
     ]
    }
   ],
   "source": [
    "# struct ExactInputSingleParams {\n",
    "#     address tokenIn;\n",
    "#     address tokenOut;\n",
    "#     uint24 fee;\n",
    "#     address recipient;\n",
    "#     uint256 amountIn;\n",
    "#     uint256 amountOutMinimum;\n",
    "#     uint160 sqrtPriceLimitX96;\n",
    "# }\n",
    "\n",
    "config.reload()\n",
    "active_network = config.get_active_network()\n",
    "uniswap_v3_swap_router = active_network.manifest_named(\"uniswap_v3_swap_router\")\n",
    "weth.approve(uniswap_v3_swap_router.address, weth_amount_to_sell_in_wei)\n",
    "\n",
    "min_out = int(trades[\"usdc\"][\"trade\"] * (10 ** 6) * 0.99)\n",
    "\n",
    "print(\"Let's swap WETH for USDC\")\n",
    "uniswap_v3_swap_router.exactInputSingle(\n",
    "    (weth.address, \n",
    "     usdc.address, \n",
    "     3000, \n",
    "     boa.env.eoa, \n",
    "     weth_amount_to_sell_in_wei, \n",
    "     min_out, \n",
    "     0\n",
    "    )\n",
    ")\n",
    "\n",
    "\n",
    "print_token_balances()"
   ]
  },
  {
   "cell_type": "code",
   "execution_count": 72,
   "metadata": {},
   "outputs": [
    {
     "name": "stdout",
     "output_type": "stream",
     "text": [
      "USDC balance: 951530154\n",
      "WETH balance: 0\n",
      "Aave USDC balance: 100000000\n",
      "Aave WETH balance: 720489084145302785\n"
     ]
    }
   ],
   "source": [
    "print_token_balances()"
   ]
  },
  {
   "cell_type": "code",
   "execution_count": 73,
   "metadata": {},
   "outputs": [
    {
     "data": {
      "text/plain": [
       "951530154"
      ]
     },
     "execution_count": 73,
     "metadata": {},
     "output_type": "execute_result"
    }
   ],
   "source": [
    "usdc.balanceOf(boa.env.eoa)"
   ]
  },
  {
   "cell_type": "code",
   "execution_count": 74,
   "metadata": {},
   "outputs": [
    {
     "name": "stdout",
     "output_type": "stream",
     "text": [
      "Depositing 951530154 USD Coin into Aave contract 0x87870Bca3F3fD6335C3F4ce8392D69350B4fA4E2\n",
      "USDC balance: 0\n",
      "WETH balance: 0\n",
      "Aave USDC balance: 1051530154\n",
      "Aave WETH balance: 720489084145302785\n"
     ]
    }
   ],
   "source": [
    "deposit(pool_contract, usdc, usdc.balanceOf(boa.env.eoa))\n",
    "print_token_balances()"
   ]
  },
  {
   "cell_type": "code",
   "execution_count": 85,
   "metadata": {},
   "outputs": [
    {
     "name": "stdout",
     "output_type": "stream",
     "text": [
      "USDC balance: 0\n",
      "WETH balance: 0\n",
      "Aave USDC balance: 1051530154\n",
      "Aave WETH balance: 720489084145302785\n"
     ]
    }
   ],
   "source": [
    "print_token_balances()"
   ]
  },
  {
   "cell_type": "code",
   "execution_count": 87,
   "metadata": {},
   "outputs": [
    {
     "name": "stdout",
     "output_type": "stream",
     "text": [
      "Aave USDC balance: 1051530154\n",
      "Aave WETH balance: 720489084145302785\n",
      "Aave USDC balance normalized: 1051.530154\n",
      "Aave WETH balance normalized: 0.7204890841453028\n",
      "WETH percent allocation: 0.70\n",
      "USDC percent allocation: 0.30\n"
     ]
    }
   ],
   "source": [
    "a_usdc_balance = a_usdc.balanceOf(boa.env.eoa)\n",
    "print(f\"Aave USDC balance: {a_usdc_balance}\")\n",
    "\n",
    "a_weth_balance = a_weth.balanceOf(boa.env.eoa)\n",
    "print(f\"Aave WETH balance: {a_weth_balance}\")\n",
    "\n",
    "a_usdc_balance_normalized = a_usdc_balance / 10 ** 6\n",
    "a_weth_balance_normalized = a_weth_balance / 10 ** 18\n",
    "\n",
    "print(f\"Aave USDC balance normalized: {a_usdc_balance_normalized}\")\n",
    "print(f\"Aave WETH balance normalized: {a_weth_balance_normalized}\")\n",
    "\n",
    "usdc_value = a_usdc_balance_normalized * usdc_price\n",
    "weth_value = a_weth_balance_normalized * eth_price\n",
    "\n",
    "total_value = usdc_value + weth_value\n",
    "\n",
    "weth_percent_allocation = weth_value / total_value\n",
    "usdc_percent_allocation = usdc_value / total_value\n",
    "\n",
    "print(f\"WETH percent allocation: {weth_percent_allocation:.2f}\")\n",
    "print(f\"USDC percent allocation: {usdc_percent_allocation:.2f}\")\n",
    "\n",
    "\n"
   ]
  },
  {
   "cell_type": "code",
   "execution_count": null,
   "metadata": {},
   "outputs": [],
   "source": []
  }
 ],
 "metadata": {
  "kernelspec": {
   "display_name": ".venv",
   "language": "python",
   "name": "python3"
  },
  "language_info": {
   "codemirror_mode": {
    "name": "ipython",
    "version": 3
   },
   "file_extension": ".py",
   "mimetype": "text/x-python",
   "name": "python",
   "nbconvert_exporter": "python",
   "pygments_lexer": "ipython3",
   "version": "3.13.0"
  }
 },
 "nbformat": 4,
 "nbformat_minor": 2
}
